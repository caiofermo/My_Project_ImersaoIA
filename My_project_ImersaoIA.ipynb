{
  "nbformat": 4,
  "nbformat_minor": 0,
  "metadata": {
    "colab": {
      "provenance": [],
      "authorship_tag": "ABX9TyODCs8YDy9ROrlaulcMu7zM",
      "include_colab_link": true
    },
    "kernelspec": {
      "name": "python3",
      "display_name": "Python 3"
    },
    "language_info": {
      "name": "python"
    }
  },
  "cells": [
    {
      "cell_type": "markdown",
      "metadata": {
        "id": "view-in-github",
        "colab_type": "text"
      },
      "source": [
        "<a href=\"https://colab.research.google.com/github/caiofermo/My_Project_ImersaoIA/blob/main/My_project_ImersaoIA.ipynb\" target=\"_parent\"><img src=\"https://colab.research.google.com/assets/colab-badge.svg\" alt=\"Open In Colab\"/></a>"
      ]
    },
    {
      "cell_type": "code",
      "execution_count": 1,
      "metadata": {
        "id": "Ii7tsuhU9QyX"
      },
      "outputs": [],
      "source": [
        "!pip install -q -U google-generativeai"
      ]
    },
    {
      "cell_type": "code",
      "source": [
        "\n",
        "import google.generativeai as genai\n",
        "from google.colab import userdata\n",
        "api_key = userdata.get (\"SECRET_KEY\")\n",
        "\n",
        "genai.configure(api_key=api_key)"
      ],
      "metadata": {
        "id": "yyGZjyXG9ir0"
      },
      "execution_count": 34,
      "outputs": []
    },
    {
      "cell_type": "markdown",
      "source": [
        "Listar os modelos disponiveis"
      ],
      "metadata": {
        "id": "9oCDOUHx-AY3"
      }
    },
    {
      "cell_type": "code",
      "source": [
        "for m in genai.list_models():\n",
        "  if 'generateContent' in m.supported_generation_methods:\n",
        "    print(m.name)"
      ],
      "metadata": {
        "colab": {
          "base_uri": "https://localhost:8080/",
          "height": 139
        },
        "id": "Nq18zcNa-GSN",
        "outputId": "8c8b6cc2-170c-4f4e-8f62-989034c345f9"
      },
      "execution_count": 8,
      "outputs": [
        {
          "output_type": "stream",
          "name": "stdout",
          "text": [
            "models/gemini-1.0-pro\n",
            "models/gemini-1.0-pro-001\n",
            "models/gemini-1.0-pro-latest\n",
            "models/gemini-1.0-pro-vision-latest\n",
            "models/gemini-1.5-pro-latest\n",
            "models/gemini-pro\n",
            "models/gemini-pro-vision\n"
          ]
        }
      ]
    },
    {
      "cell_type": "code",
      "source": [
        "generation_config = {\n",
        "    \"candidate_count\": 1,\n",
        "    \"temperature\" : 0.5,\n",
        "}"
      ],
      "metadata": {
        "id": "y2Dpisk6DTch"
      },
      "execution_count": 11,
      "outputs": []
    },
    {
      "cell_type": "code",
      "source": [
        "safety_settings = {\n",
        "    'HATE': 'BLOCK_NONE',\n",
        "    'HARASSMENT': 'BLOCK_NONE',\n",
        "    'SEXUAL' : 'BLOCK_NONE',\n",
        "    'DANGEROUS' : 'BLOCK_NONE'\n",
        "    }\n"
      ],
      "metadata": {
        "id": "5bmJwtWwIpCy"
      },
      "execution_count": 13,
      "outputs": []
    },
    {
      "cell_type": "markdown",
      "source": [
        "inicializando modelo"
      ],
      "metadata": {
        "id": "9W_MEc5wKX6Z"
      }
    },
    {
      "cell_type": "code",
      "source": [
        "model = genai.GenerativeModel(model_name=\"gemini-1.0-pro\",\n",
        "                          generation_config=generation_config,\n",
        "                              safety_settings=safety_settings,)\n",
        ""
      ],
      "metadata": {
        "id": "gbjXVwdmKara"
      },
      "execution_count": 14,
      "outputs": []
    },
    {
      "cell_type": "code",
      "source": [
        "response = model.generate_content(\"cite 20 nomes de homens\")\n",
        "response.text"
      ],
      "metadata": {
        "colab": {
          "base_uri": "https://localhost:8080/",
          "height": 53
        },
        "id": "nzrJKwS0OYd5",
        "outputId": "a9d1feb9-3a6f-4886-9192-e4c4c06effd3"
      },
      "execution_count": 18,
      "outputs": [
        {
          "output_type": "execute_result",
          "data": {
            "text/plain": [
              "'1. Adam\\n2. Alex\\n3. Andrew\\n4. Ben\\n5. Christopher\\n6. Daniel\\n7. David\\n8. Edward\\n9. Ethan\\n10. George\\n11. Henry\\n12. James\\n13. John\\n14. Joseph\\n15. Matthew\\n16. Michael\\n17. Peter\\n18. Richard\\n19. Robert\\n20. Thomas'"
            ],
            "application/vnd.google.colaboratory.intrinsic+json": {
              "type": "string"
            }
          },
          "metadata": {},
          "execution_count": 18
        }
      ]
    },
    {
      "cell_type": "code",
      "source": [
        "chat = model.start_chat(history=[])"
      ],
      "metadata": {
        "id": "dXZ7S_9wRi1l"
      },
      "execution_count": 27,
      "outputs": []
    },
    {
      "cell_type": "code",
      "source": [
        "prompt = input(\"Qual sua duvida sobre direitos trabalhistas: \")\n",
        "\n",
        "while prompt != \"fim!\":\n",
        "  response = chat.send_message(prompt)\n",
        "  print (\"Resposta: \", response.text, \"\\n\")\n",
        "  prompt = input (\"Qual sua duvida sobre direitos trabalhistas: \")"
      ],
      "metadata": {
        "colab": {
          "base_uri": "https://localhost:8080/",
          "height": 173
        },
        "id": "JuWuk51WR-0l",
        "outputId": "3e26f0ce-f777-476d-bf2e-bfd2159ae8e1"
      },
      "execution_count": 32,
      "outputs": [
        {
          "name": "stdout",
          "output_type": "stream",
          "text": [
            "Qual sua duvida sobre direitos trabalhistas: qual idade minima para contratar  um menor aprendiz?\n",
            "Resposta:  14 anos \n",
            "\n",
            "Qual sua duvida sobre direitos trabalhistas: confirme a idade novamente\n",
            "Resposta:  **14 anos**\n",
            "\n",
            "De acordo com a Lei da Aprendizagem (Lei nº 10.097/2000), a idade mínima para contratação de menor aprendiz no Brasil é de 14 anos. \n",
            "\n",
            "Qual sua duvida sobre direitos trabalhistas: fim!\n"
          ]
        }
      ]
    }
  ]
}